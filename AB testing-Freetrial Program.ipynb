{
 "cells": [
  {
   "cell_type": "markdown",
   "id": "3d8adcd4-b981-4e45-a126-1a354869fafa",
   "metadata": {},
   "source": [
    "**Business Goal:**\n",
    "We offer the Free Trial program for customers with 2 type of UI design. We concern that which type of UI can make users purchased the FT program. So we conduct an A/B testing \n",
    "\n",
    "**Target Customers:**\n",
    "Segmentation of customers that have UI pageviews. \n"
   ]
  },
  {
   "cell_type": "markdown",
   "id": "f556d4da-3096-4bdf-9e73-a62c1d1418e7",
   "metadata": {},
   "source": [
    "1. How to define the sample size? \n",
    "2. What are the success metrics? \n",
    "3. Which type of hypothesis testing model should be choose? \n",
    "4. Whether the result is significant? \n",
    "5. Whether the result is practical significant? \n"
   ]
  },
  {
   "cell_type": "code",
   "execution_count": 2,
   "id": "f6cf2982-bf66-4422-9ba3-09e52d851a72",
   "metadata": {},
   "outputs": [],
   "source": [
    "import pandas as pd\n",
    "import numpy as np\n",
    "import matplotlib.pyplot as plt\n",
    "import seaborn as sb\n",
    "import warnings\n",
    "warnings.filterwarnings ('ignore')"
   ]
  },
  {
   "cell_type": "markdown",
   "id": "29bc20ea-d8e8-411b-9eb7-d64e5bb98a56",
   "metadata": {},
   "source": [
    "## 1. Read & Understand data:"
   ]
  },
  {
   "cell_type": "code",
   "execution_count": 47,
   "id": "374aa382-df26-4156-ab90-419474353783",
   "metadata": {},
   "outputs": [
    {
     "name": "stdout",
     "output_type": "stream",
     "text": [
      "<class 'pandas.core.frame.DataFrame'>\n",
      "RangeIndex: 30049 entries, 0 to 30048\n",
      "Data columns (total 3 columns):\n",
      " #   Column            Non-Null Count  Dtype\n",
      "---  ------            --------------  -----\n",
      " 0   customer_id       30049 non-null  int64\n",
      " 1   free_trial_group  30049 non-null  int64\n",
      " 2   converted         30049 non-null  int64\n",
      "dtypes: int64(3)\n",
      "memory usage: 704.4 KB\n"
     ]
    },
    {
     "data": {
      "text/html": [
       "<div>\n",
       "<style scoped>\n",
       "    .dataframe tbody tr th:only-of-type {\n",
       "        vertical-align: middle;\n",
       "    }\n",
       "\n",
       "    .dataframe tbody tr th {\n",
       "        vertical-align: top;\n",
       "    }\n",
       "\n",
       "    .dataframe thead th {\n",
       "        text-align: right;\n",
       "    }\n",
       "</style>\n",
       "<table border=\"1\" class=\"dataframe\">\n",
       "  <thead>\n",
       "    <tr style=\"text-align: right;\">\n",
       "      <th></th>\n",
       "      <th>customer_id</th>\n",
       "      <th>free_trial_group</th>\n",
       "      <th>converted</th>\n",
       "    </tr>\n",
       "  </thead>\n",
       "  <tbody>\n",
       "    <tr>\n",
       "      <th>count</th>\n",
       "      <td>3.004900e+04</td>\n",
       "      <td>30049.000000</td>\n",
       "      <td>30049.000000</td>\n",
       "    </tr>\n",
       "    <tr>\n",
       "      <th>mean</th>\n",
       "      <td>9.102330e+06</td>\n",
       "      <td>1.499983</td>\n",
       "      <td>0.318014</td>\n",
       "    </tr>\n",
       "    <tr>\n",
       "      <th>std</th>\n",
       "      <td>7.249900e+06</td>\n",
       "      <td>0.500008</td>\n",
       "      <td>0.465713</td>\n",
       "    </tr>\n",
       "    <tr>\n",
       "      <th>min</th>\n",
       "      <td>5.500000e+01</td>\n",
       "      <td>1.000000</td>\n",
       "      <td>0.000000</td>\n",
       "    </tr>\n",
       "    <tr>\n",
       "      <th>25%</th>\n",
       "      <td>1.634794e+06</td>\n",
       "      <td>1.000000</td>\n",
       "      <td>0.000000</td>\n",
       "    </tr>\n",
       "    <tr>\n",
       "      <th>50%</th>\n",
       "      <td>7.973345e+06</td>\n",
       "      <td>1.000000</td>\n",
       "      <td>0.000000</td>\n",
       "    </tr>\n",
       "    <tr>\n",
       "      <th>75%</th>\n",
       "      <td>1.416212e+07</td>\n",
       "      <td>2.000000</td>\n",
       "      <td>1.000000</td>\n",
       "    </tr>\n",
       "    <tr>\n",
       "      <th>max</th>\n",
       "      <td>2.508438e+07</td>\n",
       "      <td>2.000000</td>\n",
       "      <td>1.000000</td>\n",
       "    </tr>\n",
       "  </tbody>\n",
       "</table>\n",
       "</div>"
      ],
      "text/plain": [
       "        customer_id  free_trial_group     converted\n",
       "count  3.004900e+04      30049.000000  30049.000000\n",
       "mean   9.102330e+06          1.499983      0.318014\n",
       "std    7.249900e+06          0.500008      0.465713\n",
       "min    5.500000e+01          1.000000      0.000000\n",
       "25%    1.634794e+06          1.000000      0.000000\n",
       "50%    7.973345e+06          1.000000      0.000000\n",
       "75%    1.416212e+07          2.000000      1.000000\n",
       "max    2.508438e+07          2.000000      1.000000"
      ]
     },
     "execution_count": 47,
     "metadata": {},
     "output_type": "execute_result"
    }
   ],
   "source": [
    "#Read data: \n",
    "df = pd.read_csv('/Users/nguyenngockimnhu/Downloads/bquxjob_7ae7efd5_17ff7b02aa0.csv')\n",
    "df.info()\n",
    "df.describe()"
   ]
  },
  {
   "cell_type": "code",
   "execution_count": 63,
   "id": "bd6a758b-b05d-42d7-abf6-cda8e74edcdd",
   "metadata": {},
   "outputs": [
    {
     "data": {
      "text/plain": [
       "<AxesSubplot:xlabel='free_trial_group'>"
      ]
     },
     "execution_count": 63,
     "metadata": {},
     "output_type": "execute_result"
    },
    {
     "data": {
      "image/png": "[encoded data removed]",
      "text/plain": [
       "<Figure size 432x288 with 1 Axes>"
      ]
     },
     "metadata": {
      "needs_background": "light"
     },
     "output_type": "display_data"
    }
   ],
   "source": [
    "#Create a sub table & Visualize Data: \n",
    "count_tb = df.groupby('free_trial_group')[['customer_id']].nunique().reset_index()\n",
    "count_converted_tb = df.groupby('free_trial_group')[['converted']].sum().reset_index()\n",
    "count_all_tb= count_tb.merge(count_converted_tb, on = 'free_trial_group', how = 'left')\n",
    "count_all_tb.plot(x=\"free_trial_group\",y=['customer_id','converted'], kind = 'bar')"
   ]
  },
  {
   "cell_type": "markdown",
   "id": "f8cd0f9e-36b3-4d26-961c-c75ef8d38b4e",
   "metadata": {},
   "source": [
    "* As the histogram show that 2 groups have a litte fimilar (though group 1 is higher than group 2) in the converted. \n",
    "* Need to testing whether 2 CRs are different or not "
   ]
  },
  {
   "cell_type": "code",
   "execution_count": 65,
   "id": "33d968dc-d9b8-4b3d-ae04-3224e676fb43",
   "metadata": {},
   "outputs": [
    {
     "name": "stdout",
     "output_type": "stream",
     "text": [
      "Conversion rate of users in group 1 is: 34.6 %\n",
      "Conversion rate of users in group 2 is: 29.0 %\n"
     ]
    }
   ],
   "source": [
    "#Get conversion rate between 2 group: \n",
    "group1 = df[df['free_trial_group'] == 1]\n",
    "group2 = df[df['free_trial_group'] == 2]\n",
    "\n",
    "group1_converted_rate = (group1['converted'].sum())/(group1['converted'].count())*100\n",
    "group2_converted_rate = (group2['converted'].sum())/(group2['converted'].count())*100\n",
    "\n",
    "print('Conversion rate of users in group 1 is:',round(group1_converted_rate,2),'%')\n",
    "print('Conversion rate of users in group 2 is:',round(group2_converted_rate,2),'%')"
   ]
  },
  {
   "cell_type": "markdown",
   "id": "13207215-c655-4a19-822a-6384f79faad2",
   "metadata": {},
   "source": [
    "## 2. Apply Testing Method:\n",
    "\n",
    "### Frequentist Approach: Chi-Square Test\n",
    "\n",
    "With Chi-square model, we want to test the relationship between 2 groups. \n",
    "\n",
    "* H-null: There is no differnce between 2 groups \n",
    "* H-alter: There is a difference between 2 groups\n"
   ]
  },
  {
   "cell_type": "code",
   "execution_count": 66,
   "id": "f36e875d-a0b1-4570-9744-81338fb9beac",
   "metadata": {},
   "outputs": [
    {
     "data": {
      "text/plain": [
       "array([[ 5199,  9826],\n",
       "       [ 4357, 10667]])"
      ]
     },
     "execution_count": 66,
     "metadata": {},
     "output_type": "execute_result"
    }
   ],
   "source": [
    "#Create a contigency table (bảng tương quan)\n",
    "\n",
    "group1__non_converted = group1.loc[group1['converted'] == 0]['converted'].count()\n",
    "group2__non_converted = group2.loc[group2['converted'] == 0]['converted'].count()\n",
    "\n",
    "group1__converted = group1.loc[group1['converted'] == 1]['converted'].count()\n",
    "group2__converted = group2.loc[group2['converted'] == 1]['converted'].count()\n",
    "\n",
    "contingency_table = np.array([[group1__converted,group1__non_converted],\n",
    "                              [group2__converted,group2__non_converted]])\n",
    "# contingency_table = np.array([[3450,225],[3000,250]])\n",
    "contingency_table"
   ]
  },
  {
   "cell_type": "code",
   "execution_count": 67,
   "id": "36e84f1d-8648-4574-853f-94f6acdbf341",
   "metadata": {},
   "outputs": [],
   "source": [
    "from scipy.stats import chi2_contingency\n"
   ]
  },
  {
   "cell_type": "code",
   "execution_count": 68,
   "id": "bb62026e-6b3b-43e5-a6c8-0226ea9d4a20",
   "metadata": {},
   "outputs": [
    {
     "data": {
      "text/plain": [
       "True"
      ]
     },
     "execution_count": 68,
     "metadata": {},
     "output_type": "execute_result"
    }
   ],
   "source": [
    "chi, p_value, _, _= chi2_contingency(contingency_table,correction = True)\n",
    "p_value<0.05\n"
   ]
  },
  {
   "cell_type": "markdown",
   "id": "b67cfe49-d3e8-4674-a48a-e27ead7aeb01",
   "metadata": {},
   "source": [
    "* Because p-value < 0.05, we can reject H-null. There is a difference between 2 \n",
    "groups."
   ]
  },
  {
   "cell_type": "markdown",
   "id": "9e4107d7-483c-4dfe-9d1b-38c9862afdd9",
   "metadata": {},
   "source": [
    "**>>> We can conclude that group 1 is perform better than group 2**"
   ]
  }
 ],
 "metadata": {
  "kernelspec": {
   "display_name": "Python 3 (ipykernel)",
   "language": "python",
   "name": "python3"
  },
  "language_info": {
   "codemirror_mode": {
    "name": "ipython",
    "version": 3
   },
   "file_extension": ".py",
   "mimetype": "text/x-python",
   "name": "python",
   "nbconvert_exporter": "python",
   "pygments_lexer": "ipython3",
   "version": "3.9.7"
  }
 },
 "nbformat": 4,
 "nbformat_minor": 5
}
